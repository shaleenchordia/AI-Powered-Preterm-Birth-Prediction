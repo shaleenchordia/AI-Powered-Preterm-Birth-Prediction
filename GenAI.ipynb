{
  "cells": [
    {
      "cell_type": "code",
      "execution_count": 2,
      "metadata": {
        "colab": {
          "base_uri": "https://localhost:8080/"
        },
        "id": "Z333lf7llSe4",
        "outputId": "1f61add4-bd4f-4183-c94c-71dc6dd056d1"
      },
      "outputs": [
        {
          "name": "stderr",
          "output_type": "stream",
          "text": [
            "c:\\Python312\\Lib\\site-packages\\tqdm\\auto.py:21: TqdmWarning: IProgress not found. Please update jupyter and ipywidgets. See https://ipywidgets.readthedocs.io/en/stable/user_install.html\n",
            "  from .autonotebook import tqdm as notebook_tqdm\n"
          ]
        },
        {
          "name": "stdout",
          "output_type": "stream",
          "text": [
            "Warning: Looks like you're using an outdated `kagglehub` version, please consider updating (latest version: 0.3.10)\n",
            "Path to dataset files: C:\\Users\\Hi\\.cache\\kagglehub\\datasets\\natesutton\\njpretermbirths\\versions\\1\n"
          ]
        }
      ],
      "source": [
        "import kagglehub\n",
        "\n",
        "# Download latest version\n",
        "path = kagglehub.dataset_download(\"natesutton/njpretermbirths\")\n",
        "\n",
        "print(\"Path to dataset files:\", path)"
      ]
    },
    {
      "cell_type": "code",
      "execution_count": 3,
      "metadata": {
        "colab": {
          "base_uri": "https://localhost:8080/"
        },
        "id": "XMIuJvfJlTfq",
        "outputId": "098281fd-c28a-4eed-8a5f-76d7071a1fce"
      },
      "outputs": [
        {
          "name": "stdout",
          "output_type": "stream",
          "text": [
            "Files in dataset folder: ['births.csv']\n"
          ]
        },
        {
          "name": "stderr",
          "output_type": "stream",
          "text": [
            "C:\\Users\\Hi\\AppData\\Local\\Temp\\ipykernel_10736\\2152927372.py:13: DtypeWarning: Columns (2) have mixed types. Specify dtype option on import or set low_memory=False.\n",
            "  df = pd.read_csv(csv_path)\n"
          ]
        },
        {
          "name": "stdout",
          "output_type": "stream",
          "text": [
            "Dataset loaded successfully!\n",
            "<class 'pandas.core.frame.DataFrame'>\n",
            "RangeIndex: 3096936 entries, 0 to 3096935\n",
            "Data columns (total 6 columns):\n",
            " #   Column                        Dtype \n",
            "---  ------                        ----- \n",
            " 0   age_group                     object\n",
            " 1   reported_race_ethnicity       object\n",
            " 2   previous_births               object\n",
            " 3   tobacco_use_during_pregnancy  object\n",
            " 4   adequate_prenatal_care        object\n",
            " 5   preterm_indicator             int64 \n",
            "dtypes: int64(1), object(5)\n",
            "memory usage: 141.8+ MB\n",
            "None\n",
            "      age_group reported_race_ethnicity previous_births  \\\n",
            "0  Under 15 yrs     White, non-Hispanic             NaN   \n",
            "1  Under 15 yrs     White, non-Hispanic             NaN   \n",
            "2  Under 15 yrs     White, non-Hispanic             NaN   \n",
            "3  Under 15 yrs     White, non-Hispanic             NaN   \n",
            "4  Under 15 yrs     White, non-Hispanic             NaN   \n",
            "\n",
            "  tobacco_use_during_pregnancy adequate_prenatal_care  preterm_indicator  \n",
            "0                          Yes             Inadequate                  0  \n",
            "1                          Yes             Inadequate                  0  \n",
            "2                          Yes             Inadequate                  0  \n",
            "3                          Yes             Inadequate                  0  \n",
            "4                          Yes             Inadequate                  0  \n"
          ]
        }
      ],
      "source": [
        "import os\n",
        "import pandas as pd\n",
        "\n",
        "# List all files in the downloaded directory\n",
        "files = os.listdir(path)\n",
        "print(\"Files in dataset folder:\", files)\n",
        "\n",
        "# Find the CSV file (assuming there's only one CSV file)\n",
        "csv_file = [file for file in files if file.endswith('.csv')][0]\n",
        "csv_path = os.path.join(path, csv_file)\n",
        "\n",
        "# Load the dataset\n",
        "df = pd.read_csv(csv_path)\n",
        "\n",
        "# Display dataset information\n",
        "print(\"Dataset loaded successfully!\")\n",
        "print(df.info())  # Show column details\n",
        "print(df.head())  # Show first few rows\n"
      ]
    },
    {
      "cell_type": "code",
      "execution_count": 4,
      "metadata": {
        "colab": {
          "base_uri": "https://localhost:8080/"
        },
        "id": "896GkxNrlawQ",
        "outputId": "6ce23b6d-6773-4d23-a9ed-f13ece913a20"
      },
      "outputs": [
        {
          "name": "stdout",
          "output_type": "stream",
          "text": [
            "Missing values per column:\n",
            " age_group                             0\n",
            "reported_race_ethnicity               0\n",
            "previous_births                 1266413\n",
            "tobacco_use_during_pregnancy          0\n",
            "adequate_prenatal_care                0\n",
            "preterm_indicator                     0\n",
            "dtype: int64\n"
          ]
        }
      ],
      "source": [
        "# Check for missing values\n",
        "missing_values = df.isnull().sum()\n",
        "print(\"Missing values per column:\\n\", missing_values)\n"
      ]
    },
    {
      "cell_type": "code",
      "execution_count": 5,
      "metadata": {
        "colab": {
          "base_uri": "https://localhost:8080/"
        },
        "id": "7x-eMMd6oIpj",
        "outputId": "9948d947-c076-4457-b45e-cc123b4d8980"
      },
      "outputs": [
        {
          "name": "stderr",
          "output_type": "stream",
          "text": [
            "C:\\Users\\Hi\\AppData\\Local\\Temp\\ipykernel_10736\\4027383198.py:1: FutureWarning: A value is trying to be set on a copy of a DataFrame or Series through chained assignment using an inplace method.\n",
            "The behavior will change in pandas 3.0. This inplace method will never work because the intermediate object on which we are setting values always behaves as a copy.\n",
            "\n",
            "For example, when doing 'df[col].method(value, inplace=True)', try using 'df.method({col: value}, inplace=True)' or df[col] = df[col].method(value) instead, to perform the operation inplace on the original object.\n",
            "\n",
            "\n",
            "  df['previous_births'].fillna(0, inplace=True)\n"
          ]
        },
        {
          "name": "stdout",
          "output_type": "stream",
          "text": [
            "Missing values after filling:\n",
            " age_group                       0\n",
            "reported_race_ethnicity         0\n",
            "previous_births                 0\n",
            "tobacco_use_during_pregnancy    0\n",
            "adequate_prenatal_care          0\n",
            "preterm_indicator               0\n",
            "dtype: int64\n"
          ]
        }
      ],
      "source": [
        "df['previous_births'].fillna(0, inplace=True)\n",
        "\n",
        "# Verify if missing values are handled\n",
        "print(\"Missing values after filling:\\n\", df.isnull().sum())\n"
      ]
    },
    {
      "cell_type": "code",
      "execution_count": 6,
      "metadata": {
        "colab": {
          "base_uri": "https://localhost:8080/"
        },
        "id": "QyR6L-x3oV-0",
        "outputId": "bdb9e6ab-f299-4ebf-bb94-8e52601c171a"
      },
      "outputs": [
        {
          "name": "stdout",
          "output_type": "stream",
          "text": [
            "Categorical Encoding Complete. Sample Data:\n",
            "   age_group  reported_race_ethnicity previous_births  \\\n",
            "0          9                        3               0   \n",
            "1          9                        3               0   \n",
            "2          9                        3               0   \n",
            "3          9                        3               0   \n",
            "4          9                        3               0   \n",
            "\n",
            "   tobacco_use_during_pregnancy  adequate_prenatal_care  preterm_indicator  \n",
            "0                             1                       1                  0  \n",
            "1                             1                       1                  0  \n",
            "2                             1                       1                  0  \n",
            "3                             1                       1                  0  \n",
            "4                             1                       1                  0  \n"
          ]
        }
      ],
      "source": [
        "from sklearn.preprocessing import LabelEncoder\n",
        "\n",
        "# Columns to encode\n",
        "categorical_cols = ['age_group', 'reported_race_ethnicity', 'tobacco_use_during_pregnancy', 'adequate_prenatal_care']\n",
        "\n",
        "# Dictionary to store encoders\n",
        "label_encoders = {}\n",
        "\n",
        "for col in categorical_cols:\n",
        "    le = LabelEncoder()\n",
        "    df[col] = le.fit_transform(df[col])\n",
        "    label_encoders[col] = le  # Store encoder for reference\n",
        "\n",
        "# Check encoded data\n",
        "print(\"Categorical Encoding Complete. Sample Data:\")\n",
        "print(df.head())\n"
      ]
    },
    {
      "cell_type": "code",
      "execution_count": 7,
      "metadata": {
        "colab": {
          "base_uri": "https://localhost:8080/"
        },
        "id": "xgKUpXzlokWm",
        "outputId": "d757207f-d251-431e-faaf-1179fa80bcae"
      },
      "outputs": [
        {
          "data": {
            "text/plain": [
              "{'15 to 17 yrs': np.int64(0),\n",
              " '18 to 19 yrs': np.int64(1),\n",
              " '20 to 24 yrs': np.int64(2),\n",
              " '25 to 29 yrs': np.int64(3),\n",
              " '30 to 34 yrs': np.int64(4),\n",
              " '35 to 39 yrs': np.int64(5),\n",
              " '40 to 44 yrs': np.int64(6),\n",
              " '45 to 49 yrs': np.int64(7),\n",
              " '50+ yrs': np.int64(8),\n",
              " 'Under 15 yrs': np.int64(9)}"
            ]
          },
          "execution_count": 7,
          "metadata": {},
          "output_type": "execute_result"
        }
      ],
      "source": [
        "dict(zip(label_encoders['age_group'].classes_, label_encoders['age_group'].transform(label_encoders['age_group'].classes_)))\n"
      ]
    },
    {
      "cell_type": "code",
      "execution_count": 8,
      "metadata": {
        "colab": {
          "base_uri": "https://localhost:8080/"
        },
        "id": "x6sqYvygoyol",
        "outputId": "ffb1e661-3280-4043-8acc-b781d9f07065"
      },
      "outputs": [
        {
          "data": {
            "text/plain": [
              "{'Asian, non-Hispanic': np.int64(0),\n",
              " 'Black, non-Hispanic': np.int64(1),\n",
              " 'Hispanic (of any race)': np.int64(2),\n",
              " 'White, non-Hispanic': np.int64(3)}"
            ]
          },
          "execution_count": 8,
          "metadata": {},
          "output_type": "execute_result"
        }
      ],
      "source": [
        "dict(zip(label_encoders['reported_race_ethnicity'].classes_, label_encoders['reported_race_ethnicity'].transform(label_encoders['reported_race_ethnicity'].classes_)))\n"
      ]
    },
    {
      "cell_type": "code",
      "execution_count": 9,
      "metadata": {
        "colab": {
          "base_uri": "https://localhost:8080/"
        },
        "id": "1QzZJcRWo-Em",
        "outputId": "f748e1b8-d10a-4706-d66d-f15ce11b96c5"
      },
      "outputs": [
        {
          "data": {
            "text/plain": [
              "{'Adequate': np.int64(0), 'Inadequate': np.int64(1)}"
            ]
          },
          "execution_count": 9,
          "metadata": {},
          "output_type": "execute_result"
        }
      ],
      "source": [
        "dict(zip(label_encoders['adequate_prenatal_care'].classes_, label_encoders['adequate_prenatal_care'].transform(label_encoders['adequate_prenatal_care'].classes_)))\n"
      ]
    },
    {
      "cell_type": "code",
      "execution_count": 10,
      "metadata": {
        "colab": {
          "base_uri": "https://localhost:8080/"
        },
        "id": "ZE4TLgOvpBHf",
        "outputId": "184e51ce-53b2-48a7-bc9e-3674914b4b5f"
      },
      "outputs": [
        {
          "name": "stdout",
          "output_type": "stream",
          "text": [
            "age_group                        int64\n",
            "reported_race_ethnicity          int64\n",
            "previous_births                 object\n",
            "tobacco_use_during_pregnancy     int64\n",
            "adequate_prenatal_care           int64\n",
            "preterm_indicator                int64\n",
            "dtype: object\n"
          ]
        }
      ],
      "source": [
        "print(df.dtypes)\n"
      ]
    },
    {
      "cell_type": "code",
      "execution_count": 11,
      "metadata": {
        "id": "1Xiinxj3pJWj"
      },
      "outputs": [],
      "source": [
        "df['previous_births'] = pd.to_numeric(df['previous_births'], errors='coerce')\n"
      ]
    },
    {
      "cell_type": "code",
      "execution_count": 12,
      "metadata": {
        "colab": {
          "base_uri": "https://localhost:8080/"
        },
        "id": "2DmNAjr3qSrM",
        "outputId": "0761ccbb-1da2-42b1-8565-c749f78e7acc"
      },
      "outputs": [
        {
          "name": "stdout",
          "output_type": "stream",
          "text": [
            "age_group                         int64\n",
            "reported_race_ethnicity           int64\n",
            "previous_births                 float64\n",
            "tobacco_use_during_pregnancy      int64\n",
            "adequate_prenatal_care            int64\n",
            "preterm_indicator                 int64\n",
            "dtype: object\n"
          ]
        }
      ],
      "source": [
        "print(df.dtypes)  # Ensure \"previous_births\" is now float or int\n"
      ]
    },
    {
      "cell_type": "code",
      "execution_count": 13,
      "metadata": {
        "colab": {
          "base_uri": "https://localhost:8080/"
        },
        "id": "z5RVIP1FqV9F",
        "outputId": "819995a8-d4a9-4117-d9ca-c8bcfa33bff0"
      },
      "outputs": [
        {
          "name": "stdout",
          "output_type": "stream",
          "text": [
            "Numerical feature scaled successfully!\n"
          ]
        }
      ],
      "source": [
        "from sklearn.preprocessing import StandardScaler\n",
        "\n",
        "scaler = StandardScaler()\n",
        "df['previous_births'] = scaler.fit_transform(df[['previous_births']])\n",
        "\n",
        "print(\"Numerical feature scaled successfully!\")\n"
      ]
    },
    {
      "cell_type": "code",
      "execution_count": 14,
      "metadata": {
        "colab": {
          "base_uri": "https://localhost:8080/"
        },
        "id": "DKJl8DH5qk7F",
        "outputId": "7239d51f-be3e-499f-c353-da819cd6327e"
      },
      "outputs": [
        {
          "name": "stdout",
          "output_type": "stream",
          "text": [
            "Training Set: (2477548, 5), (2477548,)\n",
            "Testing Set: (619388, 5), (619388,)\n"
          ]
        }
      ],
      "source": [
        "from sklearn.model_selection import train_test_split\n",
        "\n",
        "# Define features (X) and target (y)\n",
        "X = df.drop(columns=['preterm_indicator'])  # All columns except the target\n",
        "y = df['preterm_indicator']  # Target variable\n",
        "\n",
        "# Split into training (80%) and testing (20%)\n",
        "X_train, X_test, y_train, y_test = train_test_split(X, y, test_size=0.2, random_state=42)\n",
        "\n",
        "print(f\"Training Set: {X_train.shape}, {y_train.shape}\")\n",
        "print(f\"Testing Set: {X_test.shape}, {y_test.shape}\")\n"
      ]
    },
    {
      "cell_type": "code",
      "execution_count": 15,
      "metadata": {
        "colab": {
          "base_uri": "https://localhost:8080/"
        },
        "id": "MaxYdNp3rALe",
        "outputId": "8a3db494-eae7-4959-f857-bc1b5a863461"
      },
      "outputs": [
        {
          "name": "stdout",
          "output_type": "stream",
          "text": [
            "Random Forest Accuracy: 0.9075\n"
          ]
        }
      ],
      "source": [
        "from sklearn.ensemble import RandomForestClassifier\n",
        "from sklearn.metrics import accuracy_score # Import accuracy_score\n",
        "\n",
        "# Initialize and train\n",
        "rf_model = RandomForestClassifier(n_estimators=100, random_state=42)\n",
        "rf_model.fit(X_train, y_train)\n",
        "\n",
        "# Predictions\n",
        "y_pred_rf = rf_model.predict(X_test)\n",
        "\n",
        "# Evaluate\n",
        "rf_accuracy = accuracy_score(y_test, y_pred_rf)\n",
        "print(f\"Random Forest Accuracy: {rf_accuracy:.4f}\")"
      ]
    },
    {
      "cell_type": "code",
      "execution_count": 16,
      "metadata": {
        "colab": {
          "base_uri": "https://localhost:8080/"
        },
        "id": "gW1PJhMAtGVv",
        "outputId": "7381a37e-c1f1-4540-8c41-bed5fc7106d1"
      },
      "outputs": [
        {
          "name": "stderr",
          "output_type": "stream",
          "text": [
            "c:\\Python312\\Lib\\site-packages\\keras\\src\\layers\\core\\dense.py:87: UserWarning: Do not pass an `input_shape`/`input_dim` argument to a layer. When using Sequential models, prefer using an `Input(shape)` object as the first layer in the model instead.\n",
            "  super().__init__(activity_regularizer=activity_regularizer, **kwargs)\n"
          ]
        },
        {
          "name": "stdout",
          "output_type": "stream",
          "text": [
            "Epoch 1/6\n",
            "\u001b[1m32600/32600\u001b[0m \u001b[32m━━━━━━━━━━━━━━━━━━━━\u001b[0m\u001b[37m\u001b[0m \u001b[1m101s\u001b[0m 3ms/step - accuracy: 0.9077 - loss: 0.3185 - val_accuracy: 0.9076 - val_loss: 0.3081\n",
            "Epoch 2/6\n",
            "\u001b[1m32600/32600\u001b[0m \u001b[32m━━━━━━━━━━━━━━━━━━━━\u001b[0m\u001b[37m\u001b[0m \u001b[1m99s\u001b[0m 3ms/step - accuracy: 0.9077 - loss: 0.3079 - val_accuracy: 0.9076 - val_loss: 0.3082\n",
            "Epoch 3/6\n",
            "\u001b[1m32600/32600\u001b[0m \u001b[32m━━━━━━━━━━━━━━━━━━━━\u001b[0m\u001b[37m\u001b[0m \u001b[1m102s\u001b[0m 3ms/step - accuracy: 0.9083 - loss: 0.3066 - val_accuracy: 0.9076 - val_loss: 0.3082\n",
            "Epoch 4/6\n",
            "\u001b[1m32600/32600\u001b[0m \u001b[32m━━━━━━━━━━━━━━━━━━━━\u001b[0m\u001b[37m\u001b[0m \u001b[1m100s\u001b[0m 3ms/step - accuracy: 0.9078 - loss: 0.3077 - val_accuracy: 0.9076 - val_loss: 0.3082\n",
            "Epoch 5/6\n",
            "\u001b[1m32600/32600\u001b[0m \u001b[32m━━━━━━━━━━━━━━━━━━━━\u001b[0m\u001b[37m\u001b[0m \u001b[1m103s\u001b[0m 3ms/step - accuracy: 0.9078 - loss: 0.3076 - val_accuracy: 0.9076 - val_loss: 0.3082\n",
            "Epoch 6/6\n",
            "\u001b[1m32600/32600\u001b[0m \u001b[32m━━━━━━━━━━━━━━━━━━━━\u001b[0m\u001b[37m\u001b[0m \u001b[1m102s\u001b[0m 3ms/step - accuracy: 0.9077 - loss: 0.3078 - val_accuracy: 0.9076 - val_loss: 0.3084\n",
            "\u001b[1m19356/19356\u001b[0m \u001b[32m━━━━━━━━━━━━━━━━━━━━\u001b[0m\u001b[37m\u001b[0m \u001b[1m43s\u001b[0m 2ms/step - accuracy: 0.9075 - loss: 0.3086\n",
            "MLP Accuracy: 0.9076\n"
          ]
        }
      ],
      "source": [
        "import tensorflow as tf\n",
        "from tensorflow import keras\n",
        "from tensorflow.keras.models import Sequential\n",
        "from tensorflow.keras.layers import Dense\n",
        "\n",
        "# Define MLP model\n",
        "mlp_model = Sequential([\n",
        "    Dense(64, activation='relu', input_shape=(X_train.shape[1],)),\n",
        "    Dense(32, activation='relu'),\n",
        "    Dense(1, activation='sigmoid')  # Binary classification\n",
        "])\n",
        "\n",
        "# Compile the model\n",
        "mlp_model.compile(optimizer='adam', loss='binary_crossentropy', metrics=['accuracy'])\n",
        "\n",
        "# Train the model\n",
        "mlp_history = mlp_model.fit(X_train, y_train, epochs=6, batch_size=76, validation_data=(X_test, y_test))\n",
        "\n",
        "# Evaluate on test set\n",
        "mlp_loss, mlp_accuracy = mlp_model.evaluate(X_test, y_test)\n",
        "print(f\"MLP Accuracy: {mlp_accuracy:.4f}\")\n"
      ]
    },
    {
      "cell_type": "code",
      "execution_count": 17,
      "metadata": {
        "colab": {
          "base_uri": "https://localhost:8080/",
          "height": 638
        },
        "id": "lfLbFgEeujn5",
        "outputId": "58bb0541-fc43-4885-f580-b21167458d25"
      },
      "outputs": [
        {
          "data": {
            "image/png": "[encoded data removed]",
            "text/plain": [
              "<Figure size 800x500 with 1 Axes>"
            ]
          },
          "metadata": {},
          "output_type": "display_data"
        }
      ],
      "source": [
        "import matplotlib.pyplot as plt\n",
        "import numpy as np\n",
        "\n",
        "# Get feature importances\n",
        "importances = rf_model.feature_importances_\n",
        "feature_names = X_train.columns\n",
        "\n",
        "# Sort in descending order\n",
        "indices = np.argsort(importances)[::-1]\n",
        "\n",
        "# Plot\n",
        "plt.figure(figsize=(8, 5))\n",
        "plt.bar(range(len(importances)), importances[indices], align=\"center\")\n",
        "plt.xticks(range(len(importances)), [feature_names[i] for i in indices], rotation=45, ha=\"right\")\n",
        "plt.xlabel(\"Features\")\n",
        "plt.ylabel(\"Importance Score\")\n",
        "plt.title(\"Feature Importance in Random Forest Model\")\n",
        "plt.show()\n"
      ]
    },
    {
      "cell_type": "code",
      "execution_count": 18,
      "metadata": {
        "colab": {
          "base_uri": "https://localhost:8080/",
          "height": 487
        },
        "id": "bHRYdXi7z6lP",
        "outputId": "8f0eec87-4a9a-4ccc-c119-efd8d925c100"
      },
      "outputs": [
        {
          "data": {
            "image/png": "[encoded data removed]",
            "text/plain": [
              "<Figure size 700x500 with 1 Axes>"
            ]
          },
          "metadata": {},
          "output_type": "display_data"
        }
      ],
      "source": [
        "from sklearn.metrics import roc_curve, auc\n",
        "\n",
        "# Get probability scores\n",
        "y_probs_rf = rf_model.predict_proba(X_test)[:, 1]\n",
        "\n",
        "# Compute ROC curve\n",
        "fpr, tpr, _ = roc_curve(y_test, y_probs_rf)\n",
        "roc_auc = auc(fpr, tpr)\n",
        "\n",
        "# Plot\n",
        "plt.figure(figsize=(7, 5))\n",
        "plt.plot(fpr, tpr, color=\"blue\", label=f\"ROC Curve (AUC = {roc_auc:.2f})\")\n",
        "plt.plot([0, 1], [0, 1], color=\"gray\", linestyle=\"--\")\n",
        "plt.xlabel(\"False Positive Rate\")\n",
        "plt.ylabel(\"True Positive Rate\")\n",
        "plt.title(\"ROC Curve - Random Forest\")\n",
        "plt.legend()\n",
        "plt.show()\n"
      ]
    },
    {
      "cell_type": "code",
      "execution_count": 19,
      "metadata": {
        "colab": {
          "base_uri": "https://localhost:8080/",
          "height": 472
        },
        "id": "a9RfPP70BabR",
        "outputId": "316a8434-c762-4d18-e35b-1129dd36a596"
      },
      "outputs": [
        {
          "data": {
            "image/png": "[encoded data removed]",
            "text/plain": [
              "<Figure size 640x480 with 2 Axes>"
            ]
          },
          "metadata": {},
          "output_type": "display_data"
        }
      ],
      "source": [
        "from sklearn.metrics import confusion_matrix, ConfusionMatrixDisplay\n",
        "\n",
        "# Predict on test set\n",
        "y_pred_rf = rf_model.predict(X_test)\n",
        "\n",
        "# Compute confusion matrix\n",
        "cm = confusion_matrix(y_test, y_pred_rf)\n",
        "\n",
        "# Display\n",
        "disp = ConfusionMatrixDisplay(confusion_matrix=cm)\n",
        "disp.plot(cmap=\"Blues\")\n",
        "plt.title(\"Confusion Matrix - Random Forest\")\n",
        "plt.show()\n"
      ]
    },
    {
      "cell_type": "code",
      "execution_count": 20,
      "metadata": {
        "colab": {
          "base_uri": "https://localhost:8080/"
        },
        "id": "-EWpWsI6BeRf",
        "outputId": "9d0ddfb5-dbc2-4285-df88-8843f71af0de"
      },
      "outputs": [
        {
          "name": "stdout",
          "output_type": "stream",
          "text": [
            "\u001b[1m19356/19356\u001b[0m \u001b[32m━━━━━━━━━━━━━━━━━━━━\u001b[0m\u001b[37m\u001b[0m \u001b[1m25s\u001b[0m 1ms/step\n",
            "MLP Model Performance:\n",
            "Accuracy: 0.9075635950325159\n"
          ]
        },
        {
          "name": "stderr",
          "output_type": "stream",
          "text": [
            "c:\\Python312\\Lib\\site-packages\\sklearn\\metrics\\_classification.py:1531: UndefinedMetricWarning: Precision is ill-defined and being set to 0.0 in labels with no predicted samples. Use `zero_division` parameter to control this behavior.\n",
            "  _warn_prf(average, modifier, f\"{metric.capitalize()} is\", len(result))\n"
          ]
        },
        {
          "name": "stdout",
          "output_type": "stream",
          "text": [
            "\n",
            "Classification Report:\n",
            "               precision    recall  f1-score   support\n",
            "\n",
            "           0     0.9076    1.0000    0.9515    562134\n",
            "           1     0.0000    0.0000    0.0000     57254\n",
            "\n",
            "    accuracy                         0.9076    619388\n",
            "   macro avg     0.4538    0.5000    0.4758    619388\n",
            "weighted avg     0.8237    0.9076    0.8636    619388\n",
            "\n"
          ]
        },
        {
          "name": "stderr",
          "output_type": "stream",
          "text": [
            "c:\\Python312\\Lib\\site-packages\\sklearn\\metrics\\_classification.py:1531: UndefinedMetricWarning: Precision is ill-defined and being set to 0.0 in labels with no predicted samples. Use `zero_division` parameter to control this behavior.\n",
            "  _warn_prf(average, modifier, f\"{metric.capitalize()} is\", len(result))\n",
            "c:\\Python312\\Lib\\site-packages\\sklearn\\metrics\\_classification.py:1531: UndefinedMetricWarning: Precision is ill-defined and being set to 0.0 in labels with no predicted samples. Use `zero_division` parameter to control this behavior.\n",
            "  _warn_prf(average, modifier, f\"{metric.capitalize()} is\", len(result))\n"
          ]
        }
      ],
      "source": [
        "from sklearn.metrics import classification_report, accuracy_score\n",
        "\n",
        "# Get predictions on the test set\n",
        "y_pred_mlp = mlp_model.predict(X_test)\n",
        "y_pred_mlp = (y_pred_mlp > 0.5).astype(int)  # Convert probabilities to binary (if using sigmoid activation)\n",
        "\n",
        "# Print evaluation metrics\n",
        "print(\"MLP Model Performance:\")\n",
        "print(\"Accuracy:\", accuracy_score(y_test, y_pred_mlp))\n",
        "print(\"\\nClassification Report:\\n\", classification_report(y_test, y_pred_mlp, digits=4))\n"
      ]
    },
    {
      "cell_type": "code",
      "execution_count": 29,
      "metadata": {},
      "outputs": [
        {
          "name": "stdout",
          "output_type": "stream",
          "text": [
            "Model saved successfully!\n"
          ]
        }
      ],
      "source": [
        "import pickle\n",
        "with open(\"mlp_model.pkl\", \"wb\") as file:\n",
        "    pickle.dump(mlp_model, file)\n",
        "\n",
        "print(\"Model saved successfully!\")"
      ]
    },
    {
      "cell_type": "code",
      "execution_count": 39,
      "metadata": {},
      "outputs": [
        {
          "name": "stdout",
          "output_type": "stream",
          "text": [
            "(1, 4)\n"
          ]
        }
      ],
      "source": [
        "import numpy as np\n",
        "\n",
        "# Example user input (adjust values as needed)\n",
        "user_input = np.array([[4.0, 1.0, 1.0, 1.0]], dtype=np.float32)  # Shape (1, 4)\n",
        "print(user_input.shape)  # Should print (1, 4)"
      ]
    },
    {
      "cell_type": "code",
      "execution_count": 42,
      "metadata": {},
      "outputs": [
        {
          "name": "stdout",
          "output_type": "stream",
          "text": [
            "\u001b[1m1/1\u001b[0m \u001b[32m━━━━━━━━━━━━━━━━━━━━\u001b[0m\u001b[37m\u001b[0m \u001b[1m0s\u001b[0m 330ms/step\n",
            "Prediction: [[0.08550202]]\n"
          ]
        }
      ],
      "source": [
        "import pickle\n",
        "import numpy as np\n",
        "\n",
        "# Load the model\n",
        "with open(\"mlp_model.pkl\", \"rb\") as file:\n",
        "    model = pickle.load(file)\n",
        "\n",
        "# Define user input with the correct shape\n",
        "user_input = np.array([[4.0, 1.0, 1.0, 1.0, 1.0]], dtype=np.float32)  # Adjust values as needed\n",
        "\n",
        "# Make a prediction\n",
        "prediction = model.predict(user_input)\n",
        "print(\"Prediction:\", prediction)"
      ]
    },
    {
      "cell_type": "code",
      "execution_count": 46,
      "metadata": {},
      "outputs": [],
      "source": [
        "import pickle\n",
        "\n",
        "# Ensure that 'trained_model' is an actual model\n",
        "with open(\"mlp_model.pkl\", \"wb\") as file:\n",
        "    pickle.dump(mlp_model, file)\n"
      ]
    },
    {
      "cell_type": "code",
      "execution_count": 48,
      "metadata": {},
      "outputs": [],
      "source": [
        "import pickle\n",
        "import os\n",
        "\n",
        "model_path = \"mlp_model.pkl\"\n",
        "\n",
        "# Check if the file exists before loading\n",
        "if not os.path.exists(model_path):\n",
        "    raise FileNotFoundError(\"🚨 Model file not found! Ensure 'mlp_model.pkl' is in the same directory.\")\n",
        "\n",
        "# Load the model\n",
        "with open(model_path, \"rb\") as file:\n",
        "    model = pickle.load(file)\n"
      ]
    },
    {
      "cell_type": "code",
      "execution_count": null,
      "metadata": {},
      "outputs": [],
      "source": []
    }
  ],
  "metadata": {
    "accelerator": "GPU",
    "colab": {
      "gpuType": "T4",
      "provenance": []
    },
    "kernelspec": {
      "display_name": "Python 3",
      "name": "python3"
    },
    "language_info": {
      "codemirror_mode": {
        "name": "ipython",
        "version": 3
      },
      "file_extension": ".py",
      "mimetype": "text/x-python",
      "name": "python",
      "nbconvert_exporter": "python",
      "pygments_lexer": "ipython3",
      "version": "3.12.1"
    }
  },
  "nbformat": 4,
  "nbformat_minor": 0
}
